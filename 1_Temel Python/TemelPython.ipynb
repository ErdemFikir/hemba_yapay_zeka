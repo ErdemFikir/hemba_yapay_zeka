{
 "cells": [
  {
   "cell_type": "markdown",
   "metadata": {},
   "source": [
    "Temel Python Bilgisi"
   ]
  },
  {
   "cell_type": "code",
   "execution_count": 181,
   "metadata": {},
   "outputs": [
    {
     "data": {
      "text/plain": [
       "10"
      ]
     },
     "execution_count": 181,
     "metadata": {},
     "output_type": "execute_result"
    }
   ],
   "source": [
    "tamsayi = 10\n",
    "tamsayi"
   ]
  },
  {
   "cell_type": "code",
   "execution_count": 182,
   "metadata": {},
   "outputs": [
    {
     "data": {
      "text/plain": [
       "0.75"
      ]
     },
     "execution_count": 182,
     "metadata": {},
     "output_type": "execute_result"
    }
   ],
   "source": [
    "kesirlidegisken = 3/4\n",
    "kesirlidegisken"
   ]
  },
  {
   "cell_type": "code",
   "execution_count": 183,
   "metadata": {},
   "outputs": [
    {
     "name": "stdout",
     "output_type": "stream",
     "text": [
      "3.14\n"
     ]
    }
   ],
   "source": [
    "pi_sayisi = 3.14\n",
    "print(pi_sayisi)"
   ]
  },
  {
   "cell_type": "code",
   "execution_count": 184,
   "metadata": {},
   "outputs": [
    {
     "name": "stdout",
     "output_type": "stream",
     "text": [
      "<class 'str'>\n"
     ]
    },
    {
     "data": {
      "text/plain": [
       "str"
      ]
     },
     "execution_count": 184,
     "metadata": {},
     "output_type": "execute_result"
    }
   ],
   "source": [
    "kelime = \"Google\"\n",
    "print(type(kelime))\n",
    "type(kelime)"
   ]
  },
  {
   "cell_type": "code",
   "execution_count": 185,
   "metadata": {},
   "outputs": [
    {
     "data": {
      "text/plain": [
       "28.26"
      ]
     },
     "execution_count": 185,
     "metadata": {},
     "output_type": "execute_result"
    }
   ],
   "source": [
    "pi_sayisi =3.14\n",
    "yaricap = 3\n",
    "daire_alan = pi_sayisi*(yaricap**2)\n",
    "daire_alan"
   ]
  },
  {
   "cell_type": "code",
   "execution_count": null,
   "metadata": {},
   "outputs": [],
   "source": []
  },
  {
   "cell_type": "code",
   "execution_count": 186,
   "metadata": {},
   "outputs": [],
   "source": [
    "def daireAlanHesapla(r):\n",
    "    \"\"\"\n",
    "    \"\"\"\n",
    "    pi =3.14\n",
    "    daire_alanı = pi * (r**2)\n",
    "    return daire_alanı"
   ]
  },
  {
   "cell_type": "code",
   "execution_count": 187,
   "metadata": {},
   "outputs": [
    {
     "data": {
      "text/plain": [
       "78.5"
      ]
     },
     "execution_count": 187,
     "metadata": {},
     "output_type": "execute_result"
    }
   ],
   "source": [
    "daireAlanHesapla(5)"
   ]
  },
  {
   "cell_type": "markdown",
   "metadata": {},
   "source": [
    "Lambda Fonksiyonu"
   ]
  },
  {
   "cell_type": "code",
   "execution_count": 188,
   "metadata": {},
   "outputs": [
    {
     "data": {
      "text/plain": [
       "24"
      ]
     },
     "execution_count": 188,
     "metadata": {},
     "output_type": "execute_result"
    }
   ],
   "source": [
    "Fonksiyon_Lambda = lambda x,y,z : x*y*z\n",
    "Fonksiyon_Lambda(2,3,4)"
   ]
  },
  {
   "cell_type": "code",
   "execution_count": 189,
   "metadata": {},
   "outputs": [
    {
     "name": "stdout",
     "output_type": "stream",
     "text": [
      "35\n"
     ]
    }
   ],
   "source": [
    "def fonksiyonLambda(n):\n",
    "    return lambda a : a*n\n",
    "\n",
    "ana_fonksiyon = fonksiyonLambda(5)\n",
    "print(ana_fonksiyon(7))\n"
   ]
  },
  {
   "cell_type": "code",
   "execution_count": 190,
   "metadata": {},
   "outputs": [
    {
     "name": "stdout",
     "output_type": "stream",
     "text": [
      "8\n",
      "81\n"
     ]
    }
   ],
   "source": [
    "def fonk1(üs):\n",
    "    return lambda taban : taban**üs\n",
    "\n",
    "üsAlma = fonk1(3)\n",
    "print(üsAlma(2))\n",
    "\n",
    "\n",
    "dördüncü_kuvvet = fonk1(4)\n",
    "print(dördüncü_kuvvet(3))\n"
   ]
  },
  {
   "cell_type": "code",
   "execution_count": 191,
   "metadata": {},
   "outputs": [
    {
     "name": "stdout",
     "output_type": "stream",
     "text": [
      "Liste: [[3, 4, 5, 6]]\n",
      "Liste: ((3, 4, 5, 6))\n"
     ]
    }
   ],
   "source": [
    "liste = [1,2,3,4,5,6]\n",
    "tuple = (1,2,3,4,5,6)\n",
    "print(\"Liste: [\"+ str(liste[2:]) + \"]\")\n",
    "print(\"Liste: (\"+ str(tuple[2:]) + \")\")"
   ]
  },
  {
   "cell_type": "code",
   "execution_count": 192,
   "metadata": {},
   "outputs": [
    {
     "name": "stdout",
     "output_type": "stream",
     "text": [
      "1\n"
     ]
    }
   ],
   "source": [
    "dictionary = {\"Ad\":1 ,\"Soyad\": 2}\n",
    "print(dictionary['Ad'])"
   ]
  },
  {
   "cell_type": "code",
   "execution_count": 193,
   "metadata": {},
   "outputs": [
    {
     "name": "stdout",
     "output_type": "stream",
     "text": [
      "a\n",
      "n\n",
      "k\n",
      "a\n",
      "r\n",
      "a\n",
      " \n",
      "k\n",
      "o\n",
      "n\n",
      "y\n",
      "a\n"
     ]
    }
   ],
   "source": [
    "for i in \"ankara konya\":\n",
    "    print(i)"
   ]
  },
  {
   "cell_type": "code",
   "execution_count": 194,
   "metadata": {},
   "outputs": [
    {
     "name": "stdout",
     "output_type": "stream",
     "text": [
      "konya\n"
     ]
    }
   ],
   "source": [
    "metin = \"ankara konya çanakkale\"\n",
    "liste = []\n",
    "metin_ayrik = metin.split()\n",
    "for i in metin_ayrik:\n",
    "    liste.append(i)\n",
    "\n",
    "print(liste[1])"
   ]
  },
  {
   "cell_type": "code",
   "execution_count": 195,
   "metadata": {},
   "outputs": [
    {
     "name": "stdout",
     "output_type": "stream",
     "text": [
      "1\n",
      "3\n",
      "6\n",
      "10\n",
      "15\n",
      "21\n"
     ]
    },
    {
     "data": {
      "text/plain": [
       "21"
      ]
     },
     "execution_count": 195,
     "metadata": {},
     "output_type": "execute_result"
    }
   ],
   "source": [
    "liste = [1,2,3,4,5,6]\n",
    "toplam = 0\n",
    "for i in liste:\n",
    "    toplam += i \n",
    "    print(toplam)\n",
    "\n",
    "sum(liste)"
   ]
  },
  {
   "cell_type": "code",
   "execution_count": 196,
   "metadata": {},
   "outputs": [
    {
     "name": "stdout",
     "output_type": "stream",
     "text": [
      "[[ 1  2  3  4  5]\n",
      " [ 6  7  8  9 10]\n",
      " [11 12 13 14 15]]\n",
      "Şekil (3, 5)\n",
      "Boyut 2\n",
      "int64\n"
     ]
    }
   ],
   "source": [
    "import numpy as np \n",
    "dizi_np = np.array([1,2,3])\n",
    "dizi_np15 = np.array([1,2,3,4,5,6,7,8,9,10,11,12,13,14,15])\n",
    "dizi_np15 = dizi_np15.reshape(3,5)\n",
    "print(dizi_np15)\n",
    "print(\"Şekil\", dizi_np15.shape)\n",
    "print(\"Boyut\",dizi_np15.ndim)\n",
    "print(dizi_np15.dtype.name)"
   ]
  },
  {
   "cell_type": "code",
   "execution_count": 197,
   "metadata": {},
   "outputs": [
    {
     "data": {
      "text/plain": [
       "array([[1, 2, 3, 4],\n",
       "       [5, 6, 7, 8],\n",
       "       [9, 8, 7, 5]])"
      ]
     },
     "execution_count": 197,
     "metadata": {},
     "output_type": "execute_result"
    }
   ],
   "source": [
    "dizi2D = np.array([[1,2,3,4],[5,6,7,8],[9,8,7,5]])\n",
    "dizi2D"
   ]
  },
  {
   "cell_type": "code",
   "execution_count": 198,
   "metadata": {},
   "outputs": [
    {
     "data": {
      "text/plain": [
       "array([[0.00000000e+000, 1.39807441e-311, 0.00000000e+000, ...,\n",
       "        0.00000000e+000, 0.00000000e+000, 0.00000000e+000],\n",
       "       [0.00000000e+000, 0.00000000e+000, 0.00000000e+000, ...,\n",
       "        0.00000000e+000, 0.00000000e+000, 0.00000000e+000],\n",
       "       [0.00000000e+000, 0.00000000e+000, 0.00000000e+000, ...,\n",
       "        0.00000000e+000, 0.00000000e+000, 0.00000000e+000],\n",
       "       ...,\n",
       "       [3.82962635e+117, 2.87345215e+064, 1.83500104e-070, ...,\n",
       "        3.47740741e-047, 7.02453771e+242, 9.71063215e+112],\n",
       "       [1.55508629e+189, 1.62584587e+213, 7.07904363e+117, ...,\n",
       "        6.42148827e+063, 2.08183405e+079, 2.75390788e+214],\n",
       "       [1.11081046e+272, 1.50070732e+113, 4.49727990e+079, ...,\n",
       "        1.20032612e+262, 5.34949668e+281, 2.70305008e+108]])"
      ]
     },
     "execution_count": 198,
     "metadata": {},
     "output_type": "execute_result"
    }
   ],
   "source": [
    "dizi1ler = np.ones((3,4))\n",
    "\n",
    "\n",
    "bosdizi = np.empty((100,100))\n",
    "bosdizi"
   ]
  },
  {
   "cell_type": "code",
   "execution_count": 199,
   "metadata": {},
   "outputs": [],
   "source": [
    "dizi_bosluk = np.linspace(10,20,5)\n",
    "dizi_bosluk2 = np.linspace(1,100)"
   ]
  },
  {
   "cell_type": "code",
   "execution_count": 200,
   "metadata": {},
   "outputs": [
    {
     "name": "stdout",
     "output_type": "stream",
     "text": [
      "[1 2 3]\n",
      "[2 4 6]\n"
     ]
    },
    {
     "data": {
      "text/plain": [
       "array([ True, False, False])"
      ]
     },
     "execution_count": 200,
     "metadata": {},
     "output_type": "execute_result"
    }
   ],
   "source": [
    "a = np.array([1,2,3])\n",
    "print(a)\n",
    "b = a+a\n",
    "print(b)\n",
    "a<2\n"
   ]
  },
  {
   "cell_type": "code",
   "execution_count": 201,
   "metadata": {},
   "outputs": [
    {
     "name": "stdout",
     "output_type": "stream",
     "text": [
      "[[ 1  2  3  4  5]\n",
      " [ 6  7  8  9 10]]\n"
     ]
    },
    {
     "data": {
      "text/plain": [
       "array([[ 1,  2,  3,  4,  5],\n",
       "       [ 6,  7,  8,  9, 10]])"
      ]
     },
     "execution_count": 201,
     "metadata": {},
     "output_type": "execute_result"
    }
   ],
   "source": [
    "import numpy as np\n",
    "dizi = np.array([1,2,3,4,5,6,7])\n",
    "dizi_ters = dizi[::-1]\n",
    "dizi2D = np.array([[1,2,3,4,5] , [6,7,8,9,10]])\n",
    "print(dizi2D)\n",
    "dizi2D\n"
   ]
  },
  {
   "cell_type": "code",
   "execution_count": 202,
   "metadata": {},
   "outputs": [
    {
     "name": "stdout",
     "output_type": "stream",
     "text": [
      "Dizinin Şekli: (3, 3)\n",
      "Dizinin Boyutu: 2\n",
      "Dizinin Büyüklüğü: 9\n",
      "[1 2 3 4 5 6 7 8 9]\n",
      "[[1 2 3]\n",
      " [4 5 6]\n",
      " [7 8 9]]\n",
      "[[1 4 7]\n",
      " [2 5 8]\n",
      " [3 6 9]]\n"
     ]
    }
   ],
   "source": [
    "dizi2D_2 = np.array([[1,2,3],[4,5,6],[7,8,9]])\n",
    "# Dizi Şekli\n",
    "print(\"Dizinin Şekli:\" , dizi2D_2.shape)\n",
    "# Dizi Boyutu\n",
    "print(\"Dizinin Boyutu:\", dizi2D_2.ndim)\n",
    "# Dizinin Büyüklüğü\n",
    "print (\"Dizinin Büyüklüğü:\", dizi2D_2.size)\n",
    "\n",
    "dizi2D_Ravel = dizi2D_2.ravel()\n",
    "print(dizi2D_Ravel)\n",
    "dizi2D_Reshape = dizi2D_Ravel.reshape(3,3)\n",
    "print(dizi2D_Reshape)\n",
    "print(dizi2D_Reshape.T)\n"
   ]
  },
  {
   "cell_type": "code",
   "execution_count": 203,
   "metadata": {},
   "outputs": [
    {
     "data": {
      "text/html": [
       "<div>\n",
       "<style scoped>\n",
       "    .dataframe tbody tr th:only-of-type {\n",
       "        vertical-align: middle;\n",
       "    }\n",
       "\n",
       "    .dataframe tbody tr th {\n",
       "        vertical-align: top;\n",
       "    }\n",
       "\n",
       "    .dataframe thead th {\n",
       "        text-align: right;\n",
       "    }\n",
       "</style>\n",
       "<table border=\"1\" class=\"dataframe\">\n",
       "  <thead>\n",
       "    <tr style=\"text-align: right;\">\n",
       "      <th></th>\n",
       "      <th>isim</th>\n",
       "      <th>yas</th>\n",
       "      <th>maas</th>\n",
       "      <th>sehir</th>\n",
       "    </tr>\n",
       "  </thead>\n",
       "  <tbody>\n",
       "    <tr>\n",
       "      <th>0</th>\n",
       "      <td>ali</td>\n",
       "      <td>15</td>\n",
       "      <td>100</td>\n",
       "      <td>Ankara</td>\n",
       "    </tr>\n",
       "    <tr>\n",
       "      <th>1</th>\n",
       "      <td>veli</td>\n",
       "      <td>16</td>\n",
       "      <td>150</td>\n",
       "      <td>İstanbul</td>\n",
       "    </tr>\n",
       "    <tr>\n",
       "      <th>2</th>\n",
       "      <td>kenan</td>\n",
       "      <td>17</td>\n",
       "      <td>240</td>\n",
       "      <td>Konya</td>\n",
       "    </tr>\n",
       "    <tr>\n",
       "      <th>3</th>\n",
       "      <td>murat</td>\n",
       "      <td>33</td>\n",
       "      <td>350</td>\n",
       "      <td>İzmir</td>\n",
       "    </tr>\n",
       "    <tr>\n",
       "      <th>4</th>\n",
       "      <td>ayse</td>\n",
       "      <td>45</td>\n",
       "      <td>110</td>\n",
       "      <td>Bursa</td>\n",
       "    </tr>\n",
       "    <tr>\n",
       "      <th>5</th>\n",
       "      <td>hilal</td>\n",
       "      <td>66</td>\n",
       "      <td>220</td>\n",
       "      <td>Antalya</td>\n",
       "    </tr>\n",
       "  </tbody>\n",
       "</table>\n",
       "</div>"
      ],
      "text/plain": [
       "    isim  yas  maas     sehir\n",
       "0    ali   15   100    Ankara\n",
       "1   veli   16   150  İstanbul\n",
       "2  kenan   17   240     Konya\n",
       "3  murat   33   350     İzmir\n",
       "4   ayse   45   110     Bursa\n",
       "5  hilal   66   220   Antalya"
      ]
     },
     "execution_count": 203,
     "metadata": {},
     "output_type": "execute_result"
    }
   ],
   "source": [
    "import pandas as pd\n",
    "\n",
    "dictionary = { \"isim\" : [\"ali\",\"veli\",\"kenan\",\"murat\",\"ayse\", \"hilal\"],\n",
    "                \"yas\" : [15,16,17,33,45,66],\n",
    "                \"maas\" : [100,150,240,350,110,220]\n",
    "              }\n",
    "\n",
    "veri = pd.DataFrame(dictionary)\n",
    "veri[\"sehir\"] = [\"Ankara\", \"İstanbul\",\"Konya\",\"İzmir\",\"Bursa\",\"Antalya\"]\n",
    "veri\n"
   ]
  },
  {
   "cell_type": "code",
   "execution_count": 204,
   "metadata": {},
   "outputs": [
    {
     "data": {
      "text/html": [
       "<div>\n",
       "<style scoped>\n",
       "    .dataframe tbody tr th:only-of-type {\n",
       "        vertical-align: middle;\n",
       "    }\n",
       "\n",
       "    .dataframe tbody tr th {\n",
       "        vertical-align: top;\n",
       "    }\n",
       "\n",
       "    .dataframe thead th {\n",
       "        text-align: right;\n",
       "    }\n",
       "</style>\n",
       "<table border=\"1\" class=\"dataframe\">\n",
       "  <thead>\n",
       "    <tr style=\"text-align: right;\">\n",
       "      <th></th>\n",
       "      <th>isim</th>\n",
       "      <th>yas</th>\n",
       "      <th>maas</th>\n",
       "      <th>sehir</th>\n",
       "    </tr>\n",
       "  </thead>\n",
       "  <tbody>\n",
       "    <tr>\n",
       "      <th>3</th>\n",
       "      <td>murat</td>\n",
       "      <td>33</td>\n",
       "      <td>350</td>\n",
       "      <td>İzmir</td>\n",
       "    </tr>\n",
       "    <tr>\n",
       "      <th>4</th>\n",
       "      <td>ayse</td>\n",
       "      <td>45</td>\n",
       "      <td>110</td>\n",
       "      <td>Bursa</td>\n",
       "    </tr>\n",
       "    <tr>\n",
       "      <th>5</th>\n",
       "      <td>hilal</td>\n",
       "      <td>66</td>\n",
       "      <td>220</td>\n",
       "      <td>Antalya</td>\n",
       "    </tr>\n",
       "  </tbody>\n",
       "</table>\n",
       "</div>"
      ],
      "text/plain": [
       "    isim  yas  maas    sehir\n",
       "3  murat   33   350    İzmir\n",
       "4   ayse   45   110    Bursa\n",
       "5  hilal   66   220  Antalya"
      ]
     },
     "execution_count": 204,
     "metadata": {},
     "output_type": "execute_result"
    }
   ],
   "source": [
    "#İlk 3'ünü sadece Maasları Sehirlere Göre Listele\n",
    "#print(veri.loc[:2,[\"maas\",\"sehir\"]])\n",
    "\n",
    "#print(veri.iloc[:3,[0,-1]])\n",
    "\n",
    "\n",
    "filtre1 = veri.yas >22\n",
    "filtre2 = veri.sehir == \"İzmir\"\n",
    "\n",
    "veri[filtre1 | filtre2]"
   ]
  },
  {
   "cell_type": "code",
   "execution_count": 205,
   "metadata": {},
   "outputs": [
    {
     "data": {
      "text/html": [
       "<div>\n",
       "<style scoped>\n",
       "    .dataframe tbody tr th:only-of-type {\n",
       "        vertical-align: middle;\n",
       "    }\n",
       "\n",
       "    .dataframe tbody tr th {\n",
       "        vertical-align: top;\n",
       "    }\n",
       "\n",
       "    .dataframe thead th {\n",
       "        text-align: right;\n",
       "    }\n",
       "</style>\n",
       "<table border=\"1\" class=\"dataframe\">\n",
       "  <thead>\n",
       "    <tr style=\"text-align: right;\">\n",
       "      <th></th>\n",
       "      <th>isim</th>\n",
       "      <th>yas</th>\n",
       "      <th>maas</th>\n",
       "      <th>sehir</th>\n",
       "      <th>yas_grubu</th>\n",
       "    </tr>\n",
       "  </thead>\n",
       "  <tbody>\n",
       "    <tr>\n",
       "      <th>0</th>\n",
       "      <td>ali</td>\n",
       "      <td>15</td>\n",
       "      <td>100</td>\n",
       "      <td>Ankara</td>\n",
       "      <td>kucuk</td>\n",
       "    </tr>\n",
       "    <tr>\n",
       "      <th>1</th>\n",
       "      <td>veli</td>\n",
       "      <td>16</td>\n",
       "      <td>150</td>\n",
       "      <td>İstanbul</td>\n",
       "      <td>kucuk</td>\n",
       "    </tr>\n",
       "    <tr>\n",
       "      <th>2</th>\n",
       "      <td>kenan</td>\n",
       "      <td>17</td>\n",
       "      <td>240</td>\n",
       "      <td>Konya</td>\n",
       "      <td>kucuk</td>\n",
       "    </tr>\n",
       "    <tr>\n",
       "      <th>3</th>\n",
       "      <td>murat</td>\n",
       "      <td>33</td>\n",
       "      <td>350</td>\n",
       "      <td>İzmir</td>\n",
       "      <td>buyuk</td>\n",
       "    </tr>\n",
       "    <tr>\n",
       "      <th>4</th>\n",
       "      <td>ayse</td>\n",
       "      <td>45</td>\n",
       "      <td>110</td>\n",
       "      <td>Bursa</td>\n",
       "      <td>buyuk</td>\n",
       "    </tr>\n",
       "    <tr>\n",
       "      <th>5</th>\n",
       "      <td>hilal</td>\n",
       "      <td>66</td>\n",
       "      <td>220</td>\n",
       "      <td>Antalya</td>\n",
       "      <td>buyuk</td>\n",
       "    </tr>\n",
       "  </tbody>\n",
       "</table>\n",
       "</div>"
      ],
      "text/plain": [
       "    isim  yas  maas     sehir yas_grubu\n",
       "0    ali   15   100    Ankara     kucuk\n",
       "1   veli   16   150  İstanbul     kucuk\n",
       "2  kenan   17   240     Konya     kucuk\n",
       "3  murat   33   350     İzmir     buyuk\n",
       "4   ayse   45   110     Bursa     buyuk\n",
       "5  hilal   66   220   Antalya     buyuk"
      ]
     },
     "execution_count": 205,
     "metadata": {},
     "output_type": "execute_result"
    }
   ],
   "source": [
    "ortalama_yas = veri.yas.mean()\n",
    "veri[\"yas_grubu\"] = [\"kucuk\" if ortalama_yas>i else \"buyuk\" for i in veri.yas]\n",
    "veri"
   ]
  },
  {
   "cell_type": "code",
   "execution_count": 206,
   "metadata": {},
   "outputs": [
    {
     "data": {
      "text/html": [
       "<div>\n",
       "<style scoped>\n",
       "    .dataframe tbody tr th:only-of-type {\n",
       "        vertical-align: middle;\n",
       "    }\n",
       "\n",
       "    .dataframe tbody tr th {\n",
       "        vertical-align: top;\n",
       "    }\n",
       "\n",
       "    .dataframe thead th {\n",
       "        text-align: right;\n",
       "    }\n",
       "</style>\n",
       "<table border=\"1\" class=\"dataframe\">\n",
       "  <thead>\n",
       "    <tr style=\"text-align: right;\">\n",
       "      <th></th>\n",
       "      <th>isim</th>\n",
       "      <th>yas</th>\n",
       "      <th>maas</th>\n",
       "      <th>sehir</th>\n",
       "      <th>yas_grubu</th>\n",
       "      <th>yas_5yil_sonra</th>\n",
       "    </tr>\n",
       "  </thead>\n",
       "  <tbody>\n",
       "    <tr>\n",
       "      <th>0</th>\n",
       "      <td>ali</td>\n",
       "      <td>15</td>\n",
       "      <td>100</td>\n",
       "      <td>Ankara</td>\n",
       "      <td>kucuk</td>\n",
       "      <td>20</td>\n",
       "    </tr>\n",
       "    <tr>\n",
       "      <th>1</th>\n",
       "      <td>veli</td>\n",
       "      <td>16</td>\n",
       "      <td>150</td>\n",
       "      <td>İstanbul</td>\n",
       "      <td>kucuk</td>\n",
       "      <td>21</td>\n",
       "    </tr>\n",
       "    <tr>\n",
       "      <th>2</th>\n",
       "      <td>kenan</td>\n",
       "      <td>17</td>\n",
       "      <td>240</td>\n",
       "      <td>Konya</td>\n",
       "      <td>kucuk</td>\n",
       "      <td>22</td>\n",
       "    </tr>\n",
       "    <tr>\n",
       "      <th>3</th>\n",
       "      <td>murat</td>\n",
       "      <td>33</td>\n",
       "      <td>350</td>\n",
       "      <td>İzmir</td>\n",
       "      <td>buyuk</td>\n",
       "      <td>38</td>\n",
       "    </tr>\n",
       "    <tr>\n",
       "      <th>4</th>\n",
       "      <td>ayse</td>\n",
       "      <td>45</td>\n",
       "      <td>110</td>\n",
       "      <td>Bursa</td>\n",
       "      <td>buyuk</td>\n",
       "      <td>50</td>\n",
       "    </tr>\n",
       "    <tr>\n",
       "      <th>5</th>\n",
       "      <td>hilal</td>\n",
       "      <td>66</td>\n",
       "      <td>220</td>\n",
       "      <td>Antalya</td>\n",
       "      <td>buyuk</td>\n",
       "      <td>71</td>\n",
       "    </tr>\n",
       "  </tbody>\n",
       "</table>\n",
       "</div>"
      ],
      "text/plain": [
       "    isim  yas  maas     sehir yas_grubu  yas_5yil_sonra\n",
       "0    ali   15   100    Ankara     kucuk              20\n",
       "1   veli   16   150  İstanbul     kucuk              21\n",
       "2  kenan   17   240     Konya     kucuk              22\n",
       "3  murat   33   350     İzmir     buyuk              38\n",
       "4   ayse   45   110     Bursa     buyuk              50\n",
       "5  hilal   66   220   Antalya     buyuk              71"
      ]
     },
     "execution_count": 206,
     "metadata": {},
     "output_type": "execute_result"
    }
   ],
   "source": [
    "veri = veri.assign(yas_5yil_sonra = lambda x: (x[\"yas\"]+5))\n",
    "veri"
   ]
  },
  {
   "cell_type": "code",
   "execution_count": 207,
   "metadata": {},
   "outputs": [
    {
     "data": {
      "text/html": [
       "<div>\n",
       "<style scoped>\n",
       "    .dataframe tbody tr th:only-of-type {\n",
       "        vertical-align: middle;\n",
       "    }\n",
       "\n",
       "    .dataframe tbody tr th {\n",
       "        vertical-align: top;\n",
       "    }\n",
       "\n",
       "    .dataframe thead th {\n",
       "        text-align: right;\n",
       "    }\n",
       "</style>\n",
       "<table border=\"1\" class=\"dataframe\">\n",
       "  <thead>\n",
       "    <tr style=\"text-align: right;\">\n",
       "      <th></th>\n",
       "      <th>isim</th>\n",
       "      <th>yas</th>\n",
       "      <th>maas</th>\n",
       "      <th>sehir</th>\n",
       "      <th>yas_grubu</th>\n",
       "      <th>yas_5yil_sonra</th>\n",
       "      <th>yasların_karesi</th>\n",
       "    </tr>\n",
       "  </thead>\n",
       "  <tbody>\n",
       "    <tr>\n",
       "      <th>0</th>\n",
       "      <td>ali</td>\n",
       "      <td>15</td>\n",
       "      <td>100</td>\n",
       "      <td>Ankara</td>\n",
       "      <td>kucuk</td>\n",
       "      <td>20</td>\n",
       "      <td>225</td>\n",
       "    </tr>\n",
       "    <tr>\n",
       "      <th>1</th>\n",
       "      <td>veli</td>\n",
       "      <td>16</td>\n",
       "      <td>150</td>\n",
       "      <td>İstanbul</td>\n",
       "      <td>kucuk</td>\n",
       "      <td>21</td>\n",
       "      <td>256</td>\n",
       "    </tr>\n",
       "    <tr>\n",
       "      <th>2</th>\n",
       "      <td>kenan</td>\n",
       "      <td>17</td>\n",
       "      <td>240</td>\n",
       "      <td>Konya</td>\n",
       "      <td>kucuk</td>\n",
       "      <td>22</td>\n",
       "      <td>289</td>\n",
       "    </tr>\n",
       "    <tr>\n",
       "      <th>3</th>\n",
       "      <td>murat</td>\n",
       "      <td>33</td>\n",
       "      <td>350</td>\n",
       "      <td>İzmir</td>\n",
       "      <td>buyuk</td>\n",
       "      <td>38</td>\n",
       "      <td>1089</td>\n",
       "    </tr>\n",
       "    <tr>\n",
       "      <th>4</th>\n",
       "      <td>ayse</td>\n",
       "      <td>45</td>\n",
       "      <td>110</td>\n",
       "      <td>Bursa</td>\n",
       "      <td>buyuk</td>\n",
       "      <td>50</td>\n",
       "      <td>2025</td>\n",
       "    </tr>\n",
       "    <tr>\n",
       "      <th>5</th>\n",
       "      <td>hilal</td>\n",
       "      <td>66</td>\n",
       "      <td>220</td>\n",
       "      <td>Antalya</td>\n",
       "      <td>buyuk</td>\n",
       "      <td>71</td>\n",
       "      <td>4356</td>\n",
       "    </tr>\n",
       "  </tbody>\n",
       "</table>\n",
       "</div>"
      ],
      "text/plain": [
       "    isim  yas  maas     sehir yas_grubu  yas_5yil_sonra  yasların_karesi\n",
       "0    ali   15   100    Ankara     kucuk              20              225\n",
       "1   veli   16   150  İstanbul     kucuk              21              256\n",
       "2  kenan   17   240     Konya     kucuk              22              289\n",
       "3  murat   33   350     İzmir     buyuk              38             1089\n",
       "4   ayse   45   110     Bursa     buyuk              50             2025\n",
       "5  hilal   66   220   Antalya     buyuk              71             4356"
      ]
     },
     "execution_count": 207,
     "metadata": {},
     "output_type": "execute_result"
    }
   ],
   "source": [
    "veri = veri.assign(yasların_karesi = lambda x: np.square(x[\"yas\"]))\n",
    "veri"
   ]
  },
  {
   "cell_type": "code",
   "execution_count": 208,
   "metadata": {},
   "outputs": [
    {
     "data": {
      "text/html": [
       "<div>\n",
       "<style scoped>\n",
       "    .dataframe tbody tr th:only-of-type {\n",
       "        vertical-align: middle;\n",
       "    }\n",
       "\n",
       "    .dataframe tbody tr th {\n",
       "        vertical-align: top;\n",
       "    }\n",
       "\n",
       "    .dataframe thead th {\n",
       "        text-align: right;\n",
       "    }\n",
       "</style>\n",
       "<table border=\"1\" class=\"dataframe\">\n",
       "  <thead>\n",
       "    <tr style=\"text-align: right;\">\n",
       "      <th></th>\n",
       "      <th>sepal.length</th>\n",
       "      <th>sepal.width</th>\n",
       "      <th>petal.length</th>\n",
       "      <th>petal.width</th>\n",
       "      <th>variety</th>\n",
       "    </tr>\n",
       "  </thead>\n",
       "  <tbody>\n",
       "    <tr>\n",
       "      <th>0</th>\n",
       "      <td>5.1</td>\n",
       "      <td>3.5</td>\n",
       "      <td>1.4</td>\n",
       "      <td>0.2</td>\n",
       "      <td>Setosa</td>\n",
       "    </tr>\n",
       "    <tr>\n",
       "      <th>1</th>\n",
       "      <td>4.9</td>\n",
       "      <td>3.0</td>\n",
       "      <td>1.4</td>\n",
       "      <td>0.2</td>\n",
       "      <td>Setosa</td>\n",
       "    </tr>\n",
       "    <tr>\n",
       "      <th>2</th>\n",
       "      <td>4.7</td>\n",
       "      <td>3.2</td>\n",
       "      <td>1.3</td>\n",
       "      <td>0.2</td>\n",
       "      <td>Setosa</td>\n",
       "    </tr>\n",
       "    <tr>\n",
       "      <th>3</th>\n",
       "      <td>4.6</td>\n",
       "      <td>3.1</td>\n",
       "      <td>1.5</td>\n",
       "      <td>0.2</td>\n",
       "      <td>Setosa</td>\n",
       "    </tr>\n",
       "    <tr>\n",
       "      <th>4</th>\n",
       "      <td>5.0</td>\n",
       "      <td>3.6</td>\n",
       "      <td>1.4</td>\n",
       "      <td>0.2</td>\n",
       "      <td>Setosa</td>\n",
       "    </tr>\n",
       "  </tbody>\n",
       "</table>\n",
       "</div>"
      ],
      "text/plain": [
       "   sepal.length  sepal.width  petal.length  petal.width variety\n",
       "0           5.1          3.5           1.4          0.2  Setosa\n",
       "1           4.9          3.0           1.4          0.2  Setosa\n",
       "2           4.7          3.2           1.3          0.2  Setosa\n",
       "3           4.6          3.1           1.5          0.2  Setosa\n",
       "4           5.0          3.6           1.4          0.2  Setosa"
      ]
     },
     "execution_count": 208,
     "metadata": {},
     "output_type": "execute_result"
    }
   ],
   "source": [
    "import pandas as pd\n",
    "import matplotlib as plt\n",
    "\n",
    "veri = pd.read_csv(\"iris.csv\")\n",
    "veri.head()"
   ]
  },
  {
   "cell_type": "code",
   "execution_count": 209,
   "metadata": {},
   "outputs": [
    {
     "data": {
      "text/html": [
       "<div>\n",
       "<style scoped>\n",
       "    .dataframe tbody tr th:only-of-type {\n",
       "        vertical-align: middle;\n",
       "    }\n",
       "\n",
       "    .dataframe tbody tr th {\n",
       "        vertical-align: top;\n",
       "    }\n",
       "\n",
       "    .dataframe thead th {\n",
       "        text-align: right;\n",
       "    }\n",
       "</style>\n",
       "<table border=\"1\" class=\"dataframe\">\n",
       "  <thead>\n",
       "    <tr style=\"text-align: right;\">\n",
       "      <th></th>\n",
       "      <th>sepal.length</th>\n",
       "      <th>sepal.width</th>\n",
       "      <th>petal.length</th>\n",
       "      <th>petal.width</th>\n",
       "    </tr>\n",
       "  </thead>\n",
       "  <tbody>\n",
       "    <tr>\n",
       "      <th>count</th>\n",
       "      <td>150.000000</td>\n",
       "      <td>150.000000</td>\n",
       "      <td>150.000000</td>\n",
       "      <td>150.000000</td>\n",
       "    </tr>\n",
       "    <tr>\n",
       "      <th>mean</th>\n",
       "      <td>5.843333</td>\n",
       "      <td>3.057333</td>\n",
       "      <td>3.758000</td>\n",
       "      <td>1.199333</td>\n",
       "    </tr>\n",
       "    <tr>\n",
       "      <th>std</th>\n",
       "      <td>0.828066</td>\n",
       "      <td>0.435866</td>\n",
       "      <td>1.765298</td>\n",
       "      <td>0.762238</td>\n",
       "    </tr>\n",
       "    <tr>\n",
       "      <th>min</th>\n",
       "      <td>4.300000</td>\n",
       "      <td>2.000000</td>\n",
       "      <td>1.000000</td>\n",
       "      <td>0.100000</td>\n",
       "    </tr>\n",
       "    <tr>\n",
       "      <th>25%</th>\n",
       "      <td>5.100000</td>\n",
       "      <td>2.800000</td>\n",
       "      <td>1.600000</td>\n",
       "      <td>0.300000</td>\n",
       "    </tr>\n",
       "    <tr>\n",
       "      <th>50%</th>\n",
       "      <td>5.800000</td>\n",
       "      <td>3.000000</td>\n",
       "      <td>4.350000</td>\n",
       "      <td>1.300000</td>\n",
       "    </tr>\n",
       "    <tr>\n",
       "      <th>75%</th>\n",
       "      <td>6.400000</td>\n",
       "      <td>3.300000</td>\n",
       "      <td>5.100000</td>\n",
       "      <td>1.800000</td>\n",
       "    </tr>\n",
       "    <tr>\n",
       "      <th>max</th>\n",
       "      <td>7.900000</td>\n",
       "      <td>4.400000</td>\n",
       "      <td>6.900000</td>\n",
       "      <td>2.500000</td>\n",
       "    </tr>\n",
       "  </tbody>\n",
       "</table>\n",
       "</div>"
      ],
      "text/plain": [
       "       sepal.length  sepal.width  petal.length  petal.width\n",
       "count    150.000000   150.000000    150.000000   150.000000\n",
       "mean       5.843333     3.057333      3.758000     1.199333\n",
       "std        0.828066     0.435866      1.765298     0.762238\n",
       "min        4.300000     2.000000      1.000000     0.100000\n",
       "25%        5.100000     2.800000      1.600000     0.300000\n",
       "50%        5.800000     3.000000      4.350000     1.300000\n",
       "75%        6.400000     3.300000      5.100000     1.800000\n",
       "max        7.900000     4.400000      6.900000     2.500000"
      ]
     },
     "execution_count": 209,
     "metadata": {},
     "output_type": "execute_result"
    }
   ],
   "source": [
    "veri.describe()"
   ]
  },
  {
   "cell_type": "code",
   "execution_count": 216,
   "metadata": {},
   "outputs": [
    {
     "data": {
      "image/png": "[encoded data removed]",
      "text/plain": [
       "<Figure size 640x480 with 1 Axes>"
      ]
     },
     "metadata": {},
     "output_type": "display_data"
    }
   ],
   "source": [
    "import pandas as pd\n",
    "import matplotlib.pyplot as plt\n",
    "veri = pd.read_csv(\"iris.csv\")\n",
    "plt.figure()\n",
    "plt.scatter(veri[\"sepal.length\"], veri[\"sepal.width\"], color =\"blue\", alpha = 0.7)\n",
    "plt.title(\"Alt Yaprak Uzunluğu\")\n",
    "plt.xlabel(\"id\")\n",
    "plt.ylabel(\"Cm\")\n",
    "plt.grid(True)\n",
    "plt.show()"
   ]
  },
  {
   "cell_type": "code",
   "execution_count": 222,
   "metadata": {},
   "outputs": [
    {
     "data": {
      "image/png": "[encoded data removed]",
      "text/plain": [
       "<Figure size 640x480 with 1 Axes>"
      ]
     },
     "metadata": {},
     "output_type": "display_data"
    }
   ],
   "source": [
    "import pandas as pd\n",
    "import matplotlib.pyplot as plt\n",
    "veri = pd.read_csv(\"iris.csv\")\n",
    "plt.figure()\n",
    "plt.hist(veri[\"sepal.length\"], color='green', alpha=0.5, bins=20, label=\"Alt Yaprak Uzunluk\")\n",
    "plt.hist(veri[\"sepal.width\"], color='orange', alpha=0.5, bins=20, label=\"Üst Yaprak Uzunluk\")\n",
    "plt.title(\"Alt Yaprak Uzunluğu vs Üst Yaprak Uzunluğu\")\n",
    "plt.xlabel(\"Cm\")\n",
    "plt.ylabel(\"Frekans\")\n",
    "plt.legend()\n",
    "plt.show()"
   ]
  },
  {
   "cell_type": "code",
   "execution_count": 240,
   "metadata": {},
   "outputs": [
    {
     "name": "stdout",
     "output_type": "stream",
     "text": [
      "sepal.length    5.843333\n",
      "sepal.width     3.057333\n",
      "petal.length    3.758000\n",
      "petal.width     1.199333\n",
      "Name: mean, dtype: float64\n"
     ]
    },
    {
     "data": {
      "image/png": "[encoded data removed]",
      "text/plain": [
       "<Figure size 640x480 with 1 Axes>"
      ]
     },
     "metadata": {},
     "output_type": "display_data"
    },
    {
     "ename": "",
     "evalue": "",
     "output_type": "error",
     "traceback": [
      "\u001b[1;31mThe Kernel crashed while executing code in the current cell or a previous cell. \n",
      "\u001b[1;31mPlease review the code in the cell(s) to identify a possible cause of the failure. \n",
      "\u001b[1;31mClick <a href='https://aka.ms/vscodeJupyterKernelCrash'>here</a> for more info. \n",
      "\u001b[1;31mView Jupyter <a href='command:jupyter.viewOutput'>log</a> for further details."
     ]
    }
   ],
   "source": [
    "veri_sütun_listesi = [\"SepalLenghtCm\",\"SepalWidthCm\",\"PetalLenghtCm\",\"PetalWidthCm\"]\n",
    "tanim = veri.describe()\n",
    "ortalama = tanim.iloc[1,:]\n",
    "print(ortalama)\n",
    "import pandas as pd\n",
    "import matplotlib.pyplot as plt\n",
    "\n",
    "plt.bar(veri_sütun_listesi,ortalama)\n",
    "plt.title(\"Ortalama\")\n",
    "plt.ylabel(\"Cm\")\n",
    "plt.show()"
   ]
  }
 ],
 "metadata": {
  "kernelspec": {
   "display_name": "Python 3 (ipykernel)",
   "language": "python",
   "name": "python3"
  },
  "language_info": {
   "codemirror_mode": {
    "name": "ipython",
    "version": 3
   },
   "file_extension": ".py",
   "mimetype": "text/x-python",
   "name": "python",
   "nbconvert_exporter": "python",
   "pygments_lexer": "ipython3",
   "version": "3.12.6"
  }
 },
 "nbformat": 4,
 "nbformat_minor": 4
}
